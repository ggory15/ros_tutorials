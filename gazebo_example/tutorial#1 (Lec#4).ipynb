{
 "cells": [
  {
   "cell_type": "markdown",
   "metadata": {},
   "source": [
    "## Add Gazebo Model Path\n",
    "1. Open Bashrc\n",
    "```\n",
    "gedit ~/.bashrc\n",
    "```\n",
    "\n",
    "2. add the following sentence\n",
    "```\n",
    "export GAZEBO_MODEL_PATH=$HOME/tutorial_ws/src/ros_tutorials/gazebo_example/gcamp_gazebo/gazebo_files/models:$GAZEBO_MODEL_PATH\n",
    "```"
   ]
  },
  {
   "cell_type": "markdown",
   "metadata": {},
   "source": [
    "## Open Gazebo Launch \n",
    "\n",
    "1. Open Terminal\n",
    "```\n",
    "roslaunch gcamp_gazebo maze_world.launch\n",
    "```\n",
    "\n",
    "2. Wait a few minutes (downloding map data, for the first time)"
   ]
  },
  {
   "cell_type": "markdown",
   "metadata": {},
   "source": [
    "## Launch Maze Action Server\n",
    "1. Go  to the simple_action_servers \n",
    "```\n",
    "cd $HOME/your_ws/src/ros_tutorials/actionlib_tutorials/simple_action_servers\n",
    "```\n",
    "```\n",
    "python3 maze_action_server.py\n",
    "```"
   ]
  },
  {
   "cell_type": "markdown",
   "metadata": {},
   "source": [
    "## Action Server Code 분석\n"
   ]
  },
  {
   "cell_type": "code",
   "execution_count": null,
   "metadata": {},
   "outputs": [],
   "source": [
    "import math\n",
    "import time\n",
    "import rospy\n",
    "import actionlib\n",
    "\n",
    "from mazepkg.basic_cmd_vel import GoForward, Stop, Turn\n",
    "from mazepkg.gazebo_handler import GazeboResetSimulation\n",
    "from mazepkg.image_converter import ImageConverter\n",
    "\n",
    "from nav_msgs.msg import Odometry\n",
    "from geometry_msgs.msg import Twist\n",
    "from sensor_msgs.msg import LaserScan\n",
    "from tf.transformations import euler_from_quaternion\n",
    "\n",
    "from action_tutorial.msg import MazeAction, MazeFeedback, MazeResult"
   ]
  },
  {
   "cell_type": "code",
   "execution_count": null,
   "metadata": {},
   "outputs": [],
   "source": [
    "class MazeActionClass(object):\n",
    "\n",
    "    _feedback = MazeFeedback()\n",
    "    _result = MazeResult()\n",
    "\n",
    "    def __init__(self, name):\n",
    "        self._action_name = name\n",
    "        self._yaw = 0.0\n",
    "        self._scan = []\n",
    "        self._current_direction = 3  # 0 1 2 3\n",
    "\n",
    "        self._cmd_pub = rospy.Publisher(\"/cmd_vel\", Twist, queue_size=1)\n",
    "        self._odom_sub = rospy.Subscriber(\"/odom\", Odometry, self.odom_callback)\n",
    "        self._scan_sub = rospy.Subscriber(\"/scan\", LaserScan, self.scan_calback)\n",
    "        # self._image_sub = rospy.Subscriber('')\n",
    "        self._action_server = actionlib.SimpleActionServer(\n",
    "            self._action_name, MazeAction, execute_cb=self.ac_callback, auto_start=False\n",
    "        )\n",
    "        self._action_server.start()\n",
    "\n",
    "        self._rate = rospy.Rate(5)\n",
    "\n",
    "        print(\"==== MazeActionClass Constructed ====\")\n",
    "        print(\"==== Waiting for Client Goal...  ====\")"
   ]
  },
  {
   "cell_type": "markdown",
   "metadata": {},
   "source": [
    "* 외부에서 접근이 가능하도록 publish and subscribe 설정\n",
    "    * cmd_pub: 로봇에게 이동명령\n",
    "    * odom_sub: 로봇의 위치 정보\n",
    "    * scan_sub: 로봇의 라이다 정보 "
   ]
  },
  {
   "cell_type": "code",
   "execution_count": null,
   "metadata": {},
   "outputs": [],
   "source": [
    "int32[] turning_sequence\n",
    "---\n",
    "bool success\n",
    "---\n",
    "string feedback_msg"
   ]
  },
  {
   "cell_type": "code",
   "execution_count": null,
   "metadata": {},
   "outputs": [],
   "source": [
    "def ac_callback(self, goal):\n",
    "        success = True\n",
    "        print(\"==== Maze Action Server Executing ====\")\n",
    "\n",
    "\t\t\t\t# python enumerate\n",
    "        for i, val in enumerate(goal.turning_sequence):\n",
    "            # check that preempt has not been requested by the client\n",
    "            if self._action_server.is_preempt_requested():\n",
    "                rospy.logwarn(\"%s: Preempted\" % self._action_name)\n",
    "                self._action_server.set_preempted()\n",
    "                success = False\n",
    "                break\n",
    "\t\t\t\t\t\t\n",
    "\t\t\t\t\t\t# 터미널에 표시될 메세지\n",
    "            self._feedback.feedback_msg = \"Turning to \" + direction_str_dict[val]\n",
    "            self._action_server.publish_feedback(self._feedback)\n",
    "\n",
    "\t\t\t\t\t\t# 회전과 전진을 반복합니다.\n",
    "            print(\"Turning Sequence : \" + str(val))\n",
    "            self.robot_turn(direction_dict[val])\n",
    "\n",
    "            self._feedback.feedback_msg = \"Moving Forward ...\"\n",
    "            self._action_server.publish_feedback(self._feedback)\n",
    "            self.robot_go_forward()\n",
    "\n",
    "            self._rate.sleep()"
   ]
  },
  {
   "cell_type": "markdown",
   "metadata": {},
   "source": [
    "## Action Client Code 분석\n"
   ]
  },
  {
   "cell_type": "code",
   "execution_count": null,
   "metadata": {},
   "outputs": [],
   "source": [
    "import time\n",
    "import rospy\n",
    "import actionlib\n",
    "\n",
    "from enum import IntEnum\n",
    "from action_tutorial.msg import MazeAction, MazeGoal\n",
    "from tf.transformations import euler_from_quaternion, quaternion_from_euler\n",
    "\n",
    "# For more detail, search actionlib_msgs/GoalStatus\n",
    "class ActionState(IntEnum):\n",
    "    PENDING = 0\n",
    "    ACTIVE = 1\n",
    "    PREEMPTED = 2\n",
    "    SUCCEEDED = 3\n",
    "    ABORTED = 4\n",
    "    REJECTED = 5\n",
    "    PREEMPTING = 6\n",
    "    RECALLING = 7\n",
    "    RECALLED = 8\n",
    "    LOST = 9\n",
    "\n",
    "\n",
    "def fb_callback(feedback):\n",
    "    print(feedback)\n",
    "\n",
    "\n",
    "action_server_name = \"/maze_action_server\"\n",
    "rospy.init_node(\"maze_action_client\")\n",
    "action_client = actionlib.SimpleActionClient(action_server_name, MazeAction)\n",
    "\n",
    "rospy.loginfo(\"Action Server Found...\" + action_server_name)\n",
    "\n",
    "goal = MazeGoal()\n",
    "user_list = []\n",
    "\n",
    "\n",
    "# try block to handle the exception\n",
    "try:\n",
    "    print(\"Enter numbers [or stop] : \")\n",
    "\n",
    "    while True:\n",
    "        user_list.append(int(input()))\n",
    "# if the input is not-integer, just print the list\n",
    "except:\n",
    "    print(\"Your sequence list : \", user_list)\n",
    "\n",
    "goal.turning_sequence = user_list\n",
    "\n",
    "action_client.send_goal(goal, feedback_cb=fb_callback)\n",
    "state_result = action_client.get_state()\n",
    "\n",
    "rate = rospy.Rate(1)\n",
    "rospy.loginfo(\"State Result from Server : \" + str(state_result))\n",
    "\n",
    "while state_result < ActionState.PREEMPTED:\n",
    "    # Doing Stuff while waiting for the Server to give a result....\n",
    "    rate.sleep()\n",
    "    state_result = action_client.get_state()\n",
    "\n",
    "if state_result == ActionState.SUCCEEDED:\n",
    "    rospy.loginfo(\"Action Done State Result : \" + str(state_result))\n",
    "else:\n",
    "    rospy.logwarn(\"Something went wrong, result state : \" + str(state_result))"
   ]
  }
 ],
 "metadata": {
  "kernelspec": {
   "display_name": "Python 3",
   "language": "python",
   "name": "python3"
  },
  "language_info": {
   "codemirror_mode": {
    "name": "ipython",
    "version": 3
   },
   "file_extension": ".py",
   "mimetype": "text/x-python",
   "name": "python",
   "nbconvert_exporter": "python",
   "pygments_lexer": "ipython3",
   "version": "3.8.10"
  },
  "orig_nbformat": 4
 },
 "nbformat": 4,
 "nbformat_minor": 2
}
