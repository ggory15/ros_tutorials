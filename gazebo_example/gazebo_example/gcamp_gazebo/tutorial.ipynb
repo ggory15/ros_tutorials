{
 "cells": [
  {
   "cell_type": "markdown",
   "metadata": {},
   "source": [
    "# Add Gazebo Model Path\n",
    "1. Open Bashrc\n",
    "```\n",
    "gedit ~/.bashrc\n",
    "```\n",
    "\n",
    "2. add the following sentence\n",
    "```\n",
    "export GAZEBO_MODEL_PATH=$HOME/tutorial_ws/src/ros_tutorials/gcamp_gazebo/gazebo_files/models:$GAZEBO_MODEL_PATH\n",
    "```"
   ]
  }
 ],
 "metadata": {
  "kernelspec": {
   "display_name": "Python 3",
   "language": "python",
   "name": "python3"
  },
  "language_info": {
   "name": "python",
   "version": "3.8.10"
  },
  "orig_nbformat": 4
 },
 "nbformat": 4,
 "nbformat_minor": 2
}
