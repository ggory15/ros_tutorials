{
 "cells": [
  {
   "cell_type": "markdown",
   "metadata": {},
   "source": [
    "## Add Gazebo Model Path\n",
    "1. Open Bashrc\n",
    "```\n",
    "gedit ~/.bashrc\n",
    "```\n",
    "\n",
    "2. add the following sentence\n",
    "```\n",
    "export GAZEBO_MODEL_PATH=$HOME/tutorial_ws/src/ros_tutorials/gazebo_example/gcamp_gazebo/gazebo_files/models:$GAZEBO_MODEL_PATH\n",
    "```"
   ]
  },
  {
   "cell_type": "markdown",
   "metadata": {},
   "source": [
    "## Open Gazebo Launch \n",
    "\n",
    "1. Open Terminal\n",
    "```\n",
    "roslaunch gcamp_gazebo gazebo_world.launch\n",
    "```\n",
    "\n",
    "2. Wait a few minutes (downloding map data, for the first time)"
   ]
  },
  {
   "cell_type": "markdown",
   "metadata": {},
   "source": [
    "## Spawn Other robot with Service\n",
    "1. Open Terminal\n",
    "```\n",
    "rosrun service_tutorial spawn_model_client.py\n",
    "```"
   ]
  },
  {
   "cell_type": "markdown",
   "metadata": {},
   "source": [
    "## Delete other robot\n",
    "1. Open Terminal\n",
    "```\n",
    "rosservice call /gazebo/delete_model \"model_name: 'r2d2'\"\n",
    "```"
   ]
  },
  {
   "cell_type": "markdown",
   "metadata": {},
   "source": [
    "## Code 분석\n",
    "\n",
    "```\n",
    "rosservice info gazebo/spawn_urdf_model\n",
    "```\n",
    "\n",
    "```\n",
    "rossrv show gazebo_msgs/SpawnModel\n",
    "```\n"
   ]
  },
  {
   "cell_type": "code",
   "execution_count": 1,
   "metadata": {},
   "outputs": [
    {
     "name": "stdout",
     "output_type": "stream",
     "text": [
      "success: True\n",
      "status_message: \"SpawnModel: Successfully spawned entity\"\n"
     ]
    }
   ],
   "source": [
    "import math\n",
    "import rospy\n",
    "import rospkg\n",
    "from geometry_msgs.msg import Pose\n",
    "from gazebo_msgs.srv import SpawnModel\n",
    "\n",
    "rospy.init_node(\"gazebo_spawn_model\")\n",
    "\n",
    "# model_name\n",
    "model_name = 'r2d2'\n",
    "\n",
    "# model_xml\n",
    "rospack = rospkg.RosPack()\n",
    "model_path = rospack.get_path('service_tutorial')+'/models/'\n",
    "\n",
    "with open (model_path + model_name + '.urdf', 'r') as xml_file:\n",
    "    model_xml = xml_file.read().replace('\\n', '')\n",
    "\n",
    "# robot_namespace\n",
    "robot_namespace = ''\n",
    "\n",
    "# initial_pose\n",
    "initial_pose = Pose()\n",
    "initial_pose.position.x = -2\n",
    "initial_pose.position.y = 1\n",
    "initial_pose.position.z = 1\n",
    "\n",
    "# z rotation -pi/2 to Quaternion\n",
    "initial_pose.orientation.z = -0.707\n",
    "initial_pose.orientation.w = 0.707 \n",
    "\n",
    "# reference_frame\n",
    "reference_frame = 'world'\n",
    "\n",
    "# service call\n",
    "spawn_model_prox = rospy.ServiceProxy('gazebo/spawn_urdf_model', SpawnModel)\n",
    "result = spawn_model_prox(model_name, model_xml, robot_namespace, initial_pose, reference_frame) \n",
    "\n",
    "''' result fromat\n",
    "bool success\n",
    "string status_message\n",
    "'''\n",
    "\n",
    "print(result)"
   ]
  },
  {
   "cell_type": "markdown",
   "metadata": {},
   "source": [
    "## Other Case\n",
    "1. Open Terminal\n",
    "```\n",
    "rosrun service_tutorial robot_turning_srv.py\n",
    "```\n",
    "\n",
    "2. Open Other Terminal\n",
    "```\n",
    "rosrun service_tutorial robot_turning_client.py\n",
    "```\n",
    "\n",
    "3. Type desired time and velocity"
   ]
  },
  {
   "cell_type": "markdown",
   "metadata": {},
   "source": [
    "## Code 분석\n"
   ]
  },
  {
   "cell_type": "code",
   "execution_count": 3,
   "metadata": {},
   "outputs": [
    {
     "name": "stdout",
     "output_type": "stream",
     "text": [
      "[INFO] [1694504433.982322, 1580.509000]: ==== Robot Turning Server Started ====\n",
      "success: True\n"
     ]
    }
   ],
   "source": [
    "import sys\n",
    "import rospy\n",
    "from service_tutorial.srv import ControlTurningMessage, ControlTurningMessageRequest\n",
    "\n",
    "rospy.init_node(\"robot_turning_client\")\n",
    "rospy.loginfo(\"==== Robot Turning Server Started ====\")\n",
    "\n",
    "rospy.wait_for_service(\"/control_robot_angle\")\n",
    "service_client = rospy.ServiceProxy(\"/control_robot_angle\", ControlTurningMessage)\n",
    "\n",
    "request_srv = ControlTurningMessageRequest()\n",
    "\n",
    "while not rospy.is_shutdown():\n",
    "    try:\n",
    "        t = int(1)\n",
    "        vel = float(1.1)\n",
    "        if vel > 1.5707:\n",
    "            raise ArithmeticError(\"Velocity too high !!\")\n",
    "\n",
    "        request_srv.time_duration = t\n",
    "        request_srv.angular_vel = vel\n",
    "        break\n",
    "    except ArithmeticError as e:\n",
    "        rospy.logerr(e)\n",
    "    except Exception as e:\n",
    "        rospy.logerr(\"Not a number type number plz !!\")\n",
    "\n",
    "result = service_client(request_srv)\n",
    "\n",
    "print(result)"
   ]
  }
 ],
 "metadata": {
  "kernelspec": {
   "display_name": "Python 3",
   "language": "python",
   "name": "python3"
  },
  "language_info": {
   "codemirror_mode": {
    "name": "ipython",
    "version": 3
   },
   "file_extension": ".py",
   "mimetype": "text/x-python",
   "name": "python",
   "nbconvert_exporter": "python",
   "pygments_lexer": "ipython3",
   "version": "3.8.10"
  },
  "orig_nbformat": 4
 },
 "nbformat": 4,
 "nbformat_minor": 2
}
